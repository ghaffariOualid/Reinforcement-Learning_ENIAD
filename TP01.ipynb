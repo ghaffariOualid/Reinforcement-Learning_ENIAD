{
 "cells": [
  {
   "cell_type": "markdown",
   "id": "c0a4be33-1066-4196-a34a-7e51598dc011",
   "metadata": {},
   "source": [
    "# **TP 1 :** **Gym**"
   ]
  },
  {
   "cell_type": "code",
   "execution_count": 1,
   "id": "e6f9ca84-2e98-42cc-accd-c3561e999a6f",
   "metadata": {},
   "outputs": [],
   "source": [
    "# pip install --upgrade gymnasium pygame numpy"
   ]
  },
  {
   "cell_type": "code",
   "execution_count": 2,
   "id": "8725d9e7-d73b-4670-97fd-c502ae90518a",
   "metadata": {},
   "outputs": [],
   "source": [
    "import gymnasium as gym"
   ]
  },
  {
   "cell_type": "markdown",
   "id": "fcf93e41-6a91-45a1-83aa-62de62ae7a07",
   "metadata": {},
   "source": [
    "**Exercice 1 : Découverte et Exploration d'un Environnement Gym**\n"
   ]
  },
  {
   "cell_type": "code",
   "execution_count": 3,
   "id": "78788145-1d41-4c9f-971d-0a5978b6eb04",
   "metadata": {},
   "outputs": [
    {
     "name": "stdout",
     "output_type": "stream",
     "text": [
      "<TimeLimit<OrderEnforcing<PassiveEnvChecker<CartPoleEnv<CartPole-v1>>>>>\n"
     ]
    }
   ],
   "source": [
    "env = gym.make(\"CartPole-v1\",render_mode=\"human\")\n",
    "print (env)"
   ]
  },
  {
   "cell_type": "raw",
   "id": "8cb94a5f-b374-4a86-9699-ecda46522344",
   "metadata": {},
   "source": [
    "env.reset()"
   ]
  },
  {
   "cell_type": "markdown",
   "id": "bada4b95-5e37-4599-b1af-ca45dc0e27ab",
   "metadata": {},
   "source": [
    "###### **Afficher l'espace d'actions et l'espace d'observations :**\n"
   ]
  },
  {
   "cell_type": "code",
   "execution_count": 4,
   "id": "8fa862fa-513c-4241-90a9-1772878cb9a9",
   "metadata": {},
   "outputs": [
    {
     "name": "stdout",
     "output_type": "stream",
     "text": [
      "Espace d'actions : Discrete(2)\n"
     ]
    }
   ],
   "source": [
    "print(f\"Espace d'actions : {env.action_space}\")"
   ]
  },
  {
   "cell_type": "code",
   "execution_count": 5,
   "id": "9cb51cef-59b4-45d6-bf55-a1d9722748ea",
   "metadata": {},
   "outputs": [
    {
     "name": "stdout",
     "output_type": "stream",
     "text": [
      "Espace d'observation : Box([-4.8               -inf -0.41887903        -inf], [4.8               inf 0.41887903        inf], (4,), float32)\n"
     ]
    }
   ],
   "source": [
    "print(f\"Espace d'observation : {env.observation_space}\") "
   ]
  },
  {
   "cell_type": "markdown",
   "id": "82b60049-a88d-4983-b01e-3dffefbc7053",
   "metadata": {},
   "source": [
    "###### **Exécuter une boucle de simulation avec des actions aléatoires pendant 100 itérations.**"
   ]
  },
  {
   "cell_type": "code",
   "execution_count": 6,
   "id": "370b14c4-c2d9-48bf-9013-7b138a2f6947",
   "metadata": {},
   "outputs": [
    {
     "name": "stdout",
     "output_type": "stream",
     "text": [
      "Action: 0, Observation: [ 0.03146256 -0.23673436 -0.03182993  0.2467212 ], Reward: 1.0\n",
      "Action: 1, Observation: [ 0.02672787 -0.04117261 -0.02689551 -0.05582927], Reward: 1.0\n",
      "Action: 0, Observation: [ 0.02590442 -0.23589881 -0.0280121   0.22824806], Reward: 1.0\n",
      "Action: 1, Observation: [ 0.02118644 -0.04038797 -0.02344713 -0.07313761], Reward: 1.0\n",
      "Action: 1, Observation: [ 0.02037869  0.15506214 -0.02490989 -0.37312502], Reward: 1.0\n",
      "Action: 1, Observation: [ 0.02347993  0.35052893 -0.03237239 -0.673557  ], Reward: 1.0\n",
      "Action: 0, Observation: [ 0.03049051  0.15587151 -0.04584353 -0.39123967], Reward: 1.0\n",
      "Action: 0, Observation: [ 0.03360794 -0.03857085 -0.05366832 -0.11335582], Reward: 1.0\n",
      "Action: 0, Observation: [ 0.03283652 -0.23288436 -0.05593543  0.16192386], Reward: 1.0\n",
      "Action: 0, Observation: [ 0.02817883 -0.4271628  -0.05269696  0.4364493 ], Reward: 1.0\n",
      "Action: 1, Observation: [ 0.01963558 -0.23133603 -0.04396797  0.12763117], Reward: 1.0\n",
      "Action: 1, Observation: [ 0.01500886 -0.03561269 -0.04141535 -0.17859253], Reward: 1.0\n",
      "Action: 0, Observation: [ 0.0142966  -0.23011826 -0.0449872   0.100743  ], Reward: 1.0\n",
      "Action: 1, Observation: [ 0.00969424 -0.0343814  -0.04297234 -0.20578699], Reward: 1.0\n",
      "Action: 1, Observation: [ 0.00900661  0.16132787 -0.04708808 -0.51170987], Reward: 1.0\n",
      "Action: 0, Observation: [ 0.01223317 -0.03310027 -0.05732228 -0.23422971], Reward: 1.0\n",
      "Action: 1, Observation: [ 0.01157116  0.16279186 -0.06200687 -0.5444288 ], Reward: 1.0\n",
      "Action: 0, Observation: [ 0.014827   -0.03140645 -0.07289544 -0.27190948], Reward: 1.0\n",
      "Action: 0, Observation: [ 0.01419887 -0.22541663 -0.07833364 -0.00307936], Reward: 1.0\n",
      "Action: 0, Observation: [ 0.00969054 -0.41933286 -0.07839523  0.2638965 ], Reward: 1.0\n",
      "Action: 0, Observation: [ 0.00130388 -0.6132534  -0.07311729  0.5308593 ], Reward: 1.0\n",
      "Action: 0, Observation: [-0.01096119 -0.8072748  -0.06250011  0.7996365 ], Reward: 1.0\n",
      "Action: 1, Observation: [-0.02710668 -0.61135375 -0.04650738  0.48796558], Reward: 1.0\n",
      "Action: 1, Observation: [-0.03933376 -0.4156075  -0.03674807  0.18099551], Reward: 1.0\n",
      "Action: 1, Observation: [-0.04764591 -0.21997952 -0.03312816 -0.12304988], Reward: 1.0\n",
      "Action: 0, Observation: [-0.0520455  -0.41461158 -0.03558915  0.15900013], Reward: 1.0\n",
      "Action: 1, Observation: [-0.06033773 -0.21899866 -0.03240915 -0.14469446], Reward: 1.0\n",
      "Action: 0, Observation: [-0.0647177  -0.41364184 -0.03530304  0.13759038], Reward: 1.0\n",
      "Action: 0, Observation: [-0.07299054 -0.60824084 -0.03255123  0.41893005], Reward: 1.0\n",
      "Action: 0, Observation: [-0.08515536 -0.8028868  -0.02417263  0.7011759 ], Reward: 1.0\n",
      "Action: 1, Observation: [-0.10121309 -0.6074382  -0.01014911  0.40098268], Reward: 1.0\n",
      "Action: 0, Observation: [-0.11336186 -0.8024148  -0.00212946  0.69044864], Reward: 1.0\n",
      "Action: 1, Observation: [-0.12941015 -0.6072633   0.01167951  0.39709607], Reward: 1.0\n",
      "Action: 1, Observation: [-0.14155541 -0.41230902  0.01962143  0.10811825], Reward: 1.0\n",
      "Action: 1, Observation: [-0.1498016  -0.21747366  0.0217838  -0.1783102 ], Reward: 1.0\n",
      "Action: 1, Observation: [-0.15415107 -0.0226701   0.0182176  -0.46404228], Reward: 1.0\n",
      "Action: 0, Observation: [-0.15460448 -0.21804468  0.00893675 -0.16567333], Reward: 1.0\n",
      "Action: 0, Observation: [-0.15896536 -0.41329342  0.00562328  0.12981543], Reward: 1.0\n",
      "Action: 0, Observation: [-0.16723123 -0.6084955   0.00821959  0.4242671 ], Reward: 1.0\n",
      "Action: 1, Observation: [-0.17940114 -0.41349092  0.01670493  0.1341867 ], Reward: 1.0\n",
      "Action: 1, Observation: [-0.18767096 -0.21861218  0.01938867 -0.1531796 ], Reward: 1.0\n",
      "Action: 0, Observation: [-0.19204322 -0.4140063   0.01632508  0.1455564 ], Reward: 1.0\n",
      "Action: 0, Observation: [-0.20032333 -0.6093582   0.0192362   0.44334456], Reward: 1.0\n",
      "Action: 1, Observation: [-0.2125105  -0.41451365  0.02810309  0.15678689], Reward: 1.0\n",
      "Action: 1, Observation: [-0.22080077 -0.21980509  0.03123883 -0.12689939], Reward: 1.0\n",
      "Action: 1, Observation: [-0.22519687 -0.02514426  0.02870085 -0.40956545], Reward: 1.0\n",
      "Action: 1, Observation: [-0.22569975  0.16955927  0.02050954 -0.69306356], Reward: 1.0\n",
      "Action: 1, Observation: [-0.22230858  0.3643908   0.00664826 -0.97922   ], Reward: 1.0\n",
      "Action: 0, Observation: [-0.21502076  0.16918033 -0.01293614 -0.6844562 ], Reward: 1.0\n",
      "Action: 1, Observation: [-0.21163715  0.36447948 -0.02662526 -0.9811835 ], Reward: 1.0\n",
      "Action: 0, Observation: [-0.20434757  0.1697243  -0.04624893 -0.6969812 ], Reward: 1.0\n",
      "Action: 0, Observation: [-0.20095307 -0.02472682 -0.06018855 -0.41920877], Reward: 1.0\n",
      "Action: 0, Observation: [-0.2014476  -0.21894656 -0.06857273 -0.14609145], Reward: 1.0\n",
      "Action: 1, Observation: [-0.20582654 -0.02291302 -0.07149456 -0.45959526], Reward: 1.0\n",
      "Action: 0, Observation: [-0.2062848  -0.2169554  -0.08068646 -0.19027676], Reward: 1.0\n",
      "Action: 1, Observation: [-0.2106239  -0.02077739 -0.084492   -0.5072825 ], Reward: 1.0\n",
      "Action: 1, Observation: [-0.21103945  0.17542711 -0.09463765 -0.82535046], Reward: 1.0\n",
      "Action: 0, Observation: [-0.20753092 -0.01828193 -0.11114466 -0.56386906], Reward: 1.0\n",
      "Action: 0, Observation: [-0.20789656 -0.2116833  -0.12242204 -0.3081663 ], Reward: 1.0\n",
      "Action: 1, Observation: [-0.21213022 -0.01504901 -0.12858537 -0.6368125 ], Reward: 1.0\n",
      "Action: 0, Observation: [-0.2124312  -0.2081655  -0.14132161 -0.38722923], Reward: 1.0\n",
      "Action: 0, Observation: [-0.21659452 -0.40102822 -0.1490662  -0.14222963], Reward: 1.0\n",
      "Action: 1, Observation: [-0.22461507 -0.20412068 -0.1519108  -0.47797877], Reward: 1.0\n",
      "Action: 1, Observation: [-0.2286975  -0.00721713 -0.16147037 -0.8144229 ], Reward: 1.0\n",
      "Action: 1, Observation: [-0.22884183  0.18970405 -0.17775883 -1.1532285 ], Reward: 1.0\n",
      "Action: 1, Observation: [-0.22504775  0.38664198 -0.2008234  -1.4959669 ], Reward: 1.0\n",
      "Action: 0, Observation: [-0.21731491  0.19444735 -0.23074274 -1.2721149 ], Reward: 1.0\n",
      "Action: 0, Observation: [ 0.03980684 -0.149365    0.03949032  0.2714895 ], Reward: 1.0\n",
      "Action: 1, Observation: [ 0.03681954  0.04517185  0.04492012 -0.00848111], Reward: 1.0\n",
      "Action: 1, Observation: [ 0.03772298  0.23962176  0.04475049 -0.2866597 ], Reward: 1.0\n",
      "Action: 0, Observation: [0.04251541 0.04389113 0.0390173  0.01979459], Reward: 1.0\n",
      "Action: 0, Observation: [ 0.04339324 -0.15176801  0.03941319  0.32452813], Reward: 1.0\n",
      "Action: 0, Observation: [ 0.04035787 -0.34742835  0.04590375  0.62937516], Reward: 1.0\n",
      "Action: 1, Observation: [ 0.03340931 -0.15297604  0.05849126  0.3514949 ], Reward: 1.0\n",
      "Action: 0, Observation: [ 0.03034979 -0.3488789   0.06552116  0.6620333 ], Reward: 1.0\n",
      "Action: 0, Observation: [ 0.02337221 -0.5448484   0.07876182  0.97460616], Reward: 1.0\n",
      "Action: 0, Observation: [ 0.01247524 -0.7409335   0.09825394  1.2909541 ], Reward: 1.0\n",
      "Action: 1, Observation: [-0.00234343 -0.54718846  0.12407303  1.0305785 ], Reward: 1.0\n",
      "Action: 0, Observation: [-0.0132872  -0.74372315  0.1446846   1.3594983 ], Reward: 1.0\n",
      "Action: 0, Observation: [-0.02816166 -0.94033223  0.17187455  1.6937194 ], Reward: 1.0\n",
      "Action: 0, Observation: [-0.0469683  -1.1369714   0.20574895  2.0346148 ], Reward: 1.0\n",
      "Action: 1, Observation: [-0.06970773 -0.9444803   0.24644125  1.8120326 ], Reward: 1.0\n",
      "Action: 1, Observation: [ 0.01431969  0.2321471   0.03523996 -0.24897468], Reward: 1.0\n",
      "Action: 0, Observation: [0.01896263 0.03654008 0.03026047 0.0546121 ], Reward: 1.0\n",
      "Action: 0, Observation: [ 0.01969343 -0.15900241  0.03135271  0.35668677], Reward: 1.0\n",
      "Action: 0, Observation: [ 0.01651338 -0.35455576  0.03848644  0.6590888 ], Reward: 1.0\n",
      "Action: 0, Observation: [ 0.00942227 -0.55019164  0.05166822  0.96363753], Reward: 1.0\n",
      "Action: 1, Observation: [-0.00158157 -0.35580048  0.07094097  0.6876237 ], Reward: 1.0\n",
      "Action: 1, Observation: [-0.00869758 -0.16173117  0.08469344  0.41809103], Reward: 1.0\n",
      "Action: 1, Observation: [-0.0119322   0.03209489  0.09305526  0.15326416], Reward: 1.0\n",
      "Action: 1, Observation: [-0.0112903   0.22576976  0.09612054 -0.10867245], Reward: 1.0\n",
      "Action: 1, Observation: [-0.00677491  0.4193923   0.0939471  -0.36954963], Reward: 1.0\n",
      "Action: 1, Observation: [ 0.00161294  0.6130626   0.08655611 -0.63119423], Reward: 1.0\n",
      "Action: 1, Observation: [ 0.01387419  0.806877    0.07393222 -0.8954118 ], Reward: 1.0\n",
      "Action: 1, Observation: [ 0.03001173  1.0009228   0.05602399 -1.163969  ], Reward: 1.0\n",
      "Action: 1, Observation: [ 0.05003019  1.1952724   0.0327446  -1.4385737 ], Reward: 1.0\n",
      "Action: 1, Observation: [ 0.07393564  1.3899759   0.00397313 -1.7208471 ], Reward: 1.0\n",
      "Action: 0, Observation: [ 0.10173516  1.1948087  -0.03044381 -1.4269305 ], Reward: 1.0\n",
      "Action: 1, Observation: [ 0.12563133  1.3902932  -0.05898242 -1.7289706 ], Reward: 1.0\n",
      "Action: 1, Observation: [ 0.1534372   1.5860375  -0.09356184 -2.039407  ], Reward: 1.0\n"
     ]
    }
   ],
   "source": [
    "import gymnasium as gym\n",
    "\n",
    "observation = env.reset()\n",
    "\n",
    "for _ in range(100):\n",
    "    action = env.action_space.sample()  \n",
    "    observation, reward, done, _, _ = env.step(action) \n",
    "    print(f\"Action: {action}, Observation: {observation}, Reward: {reward}\")\n",
    "    \n",
    "    if done:\n",
    "       \n",
    "        observation = env.reset()\n",
    "\n",
    "\n",
    "env.close()"
   ]
  },
  {
   "cell_type": "markdown",
   "id": "d9f1284f-fdd5-4f32-a6e3-ed4a6a6b422f",
   "metadata": {},
   "source": [
    "###### **Observer les valeurs des observations retournées :**\n",
    "\n",
    "    Les observations sont un tableau de 4 valeurs pour \"CartPole-v1\". Ces valeurs représentent l'état actuel de l'environnement."
   ]
  },
  {
   "cell_type": "markdown",
   "id": "e525a0cd-9e79-4576-80d7-695561dfcabc",
   "metadata": {},
   "source": [
    "**Exercice 2 : Manipulation des Observations et Récompenses**\n"
   ]
  },
  {
   "cell_type": "markdown",
   "id": "1fe6e06f-422b-451b-850b-f0343397c61a",
   "metadata": {},
   "source": [
    "###### **Prendre une action et récupérer les valeurs retournées:**"
   ]
  },
  {
   "cell_type": "code",
   "execution_count": 7,
   "id": "b7d7f829-bf14-45f0-9941-73d3c329bc67",
   "metadata": {},
   "outputs": [],
   "source": [
    "import gymnasium as gym\n",
    "\n",
    "env = gym.make(\"CartPole-v1\", render_mode=\"human\")\n",
    "\n",
    "observation, info = env.reset()\n",
    "\n",
    "\n",
    "action = env.action_space.sample() \n",
    "observation, reward, done, _, _ = env.step(action)\n",
    "env.render()\n",
    "\n",
    "env.close()\n"
   ]
  },
  {
   "cell_type": "code",
   "execution_count": 8,
   "id": "8c586189-60cb-4b85-976a-462010aff386",
   "metadata": {},
   "outputs": [
    {
     "name": "stdout",
     "output_type": "stream",
     "text": [
      "Observation : [ 0.04393966 -0.2428564   0.01882842  0.34690422], Reward : 1.0, Done : False\n"
     ]
    }
   ],
   "source": [
    "print(f\"Observation : {observation}, Reward : {reward}, Done : {done}\")"
   ]
  },
  {
   "cell_type": "code",
   "execution_count": 9,
   "id": "b315d158-7ad7-4f44-b559-92c3eb91d389",
   "metadata": {},
   "outputs": [
    {
     "name": "stdin",
     "output_type": "stream",
     "text": [
      "Entrez une action (0 ou 1) :  0\n"
     ]
    }
   ],
   "source": [
    "env = gym.make(\"CartPole-v1\", render_mode=\"human\")\n",
    "action = int(input(\"Entrez une action (0 ou 1) : \"))\n",
    "observation, info = env.reset()\n",
    "\n",
    "\n",
    "\n",
    "observation, reward, done, _, _ = env.step(action)\n",
    "\n",
    "\n",
    "env.close()\n"
   ]
  },
  {
   "cell_type": "code",
   "execution_count": 10,
   "id": "9e4ccbc7-b02a-4d81-a43b-e60417f8d4ed",
   "metadata": {},
   "outputs": [
    {
     "name": "stdout",
     "output_type": "stream",
     "text": [
      "Observation : [ 0.02984551 -0.23875758 -0.04845745  0.308358  ], Reward : 1.0, Done : False\n"
     ]
    }
   ],
   "source": [
    "print(f\"Observation : {observation}, Reward : {reward}, Done : {done}\")"
   ]
  },
  {
   "cell_type": "markdown",
   "id": "513ba4cf-6485-4151-b544-6ed50395146e",
   "metadata": {},
   "source": [
    "###### **Analyser les valeurs :**\n",
    "\n",
    "   **Observation** : Un tableau de 4 valeurs représentant l'état de l'environnement.\n",
    "\n",
    "   **Reward** : Une récompense numérique (généralement +1 pour chaque pas où le mât reste debout).\n",
    "\n",
    "   **Done** : Un booléen indiquant si l'épisode est terminé."
   ]
  },
  {
   "cell_type": "markdown",
   "id": "6f57c2ae-850f-4f62-85ae-212cd3170593",
   "metadata": {},
   "source": [
    "###### **Faire plusieurs essais :**"
   ]
  },
  {
   "cell_type": "code",
   "execution_count": 11,
   "id": "d1143e9f-538f-48a0-92d8-0bb2ccf8cfbc",
   "metadata": {},
   "outputs": [
    {
     "name": "stdin",
     "output_type": "stream",
     "text": [
      "Entrez une action (0 ou 1) :  1\n"
     ]
    },
    {
     "name": "stdout",
     "output_type": "stream",
     "text": [
      "Observation : [ 0.01475784  0.1779952   0.04372567 -0.29946584], Reward : 1.0, Done : False\n"
     ]
    },
    {
     "name": "stdin",
     "output_type": "stream",
     "text": [
      "Entrez une action (0 ou 1) :  0\n"
     ]
    },
    {
     "name": "stdout",
     "output_type": "stream",
     "text": [
      "Observation : [ 0.01831774 -0.01772185  0.03773636  0.00668041], Reward : 1.0, Done : False\n"
     ]
    },
    {
     "name": "stdin",
     "output_type": "stream",
     "text": [
      "Entrez une action (0 ou 1) :  0\n"
     ]
    },
    {
     "name": "stdout",
     "output_type": "stream",
     "text": [
      "Observation : [ 0.0179633  -0.21336411  0.03786996  0.31102672], Reward : 1.0, Done : False\n"
     ]
    },
    {
     "name": "stdin",
     "output_type": "stream",
     "text": [
      "Entrez une action (0 ou 1) :  0\n"
     ]
    },
    {
     "name": "stdout",
     "output_type": "stream",
     "text": [
      "Observation : [ 0.01369602 -0.40900457  0.0440905   0.6154081 ], Reward : 1.0, Done : False\n"
     ]
    },
    {
     "name": "stdin",
     "output_type": "stream",
     "text": [
      "Entrez une action (0 ou 1) :  0\n"
     ]
    },
    {
     "name": "stdout",
     "output_type": "stream",
     "text": [
      "Observation : [ 0.00551593 -0.6047139   0.05639866  0.9216452 ], Reward : 1.0, Done : False\n"
     ]
    },
    {
     "name": "stdin",
     "output_type": "stream",
     "text": [
      "Entrez une action (0 ou 1) :  0\n"
     ]
    },
    {
     "name": "stdout",
     "output_type": "stream",
     "text": [
      "Observation : [-0.00657835 -0.80055076  0.07483157  1.2315059 ], Reward : 1.0, Done : False\n"
     ]
    },
    {
     "name": "stdin",
     "output_type": "stream",
     "text": [
      "Entrez une action (0 ou 1) :  1\n"
     ]
    },
    {
     "name": "stdout",
     "output_type": "stream",
     "text": [
      "Observation : [-0.02258936 -0.6064667   0.09946168  0.9631745 ], Reward : 1.0, Done : False\n"
     ]
    },
    {
     "name": "stdin",
     "output_type": "stream",
     "text": [
      "Entrez une action (0 ou 1) :  1\n"
     ]
    },
    {
     "name": "stdout",
     "output_type": "stream",
     "text": [
      "Observation : [-0.0347187  -0.41281167  0.11872517  0.7033211 ], Reward : 1.0, Done : False\n"
     ]
    },
    {
     "name": "stdin",
     "output_type": "stream",
     "text": [
      "Entrez une action (0 ou 1) :  1\n"
     ]
    },
    {
     "name": "stdout",
     "output_type": "stream",
     "text": [
      "Observation : [-0.04297493 -0.21951772  0.1327916   0.4502445 ], Reward : 1.0, Done : False\n"
     ]
    },
    {
     "name": "stdin",
     "output_type": "stream",
     "text": [
      "Entrez une action (0 ou 1) :  1\n"
     ]
    },
    {
     "name": "stdout",
     "output_type": "stream",
     "text": [
      "Observation : [-0.04736529 -0.02649928  0.14179648  0.20219187], Reward : 1.0, Done : False\n"
     ]
    },
    {
     "name": "stdin",
     "output_type": "stream",
     "text": [
      "Entrez une action (0 ou 1) :  1\n"
     ]
    },
    {
     "name": "stdout",
     "output_type": "stream",
     "text": [
      "Observation : [-0.04789527  0.16634008  0.14584032 -0.04261547], Reward : 1.0, Done : False\n"
     ]
    },
    {
     "name": "stdin",
     "output_type": "stream",
     "text": [
      "Entrez une action (0 ou 1) :  1\n"
     ]
    },
    {
     "name": "stdout",
     "output_type": "stream",
     "text": [
      "Observation : [-0.04456847  0.35910237  0.14498802 -0.2859642 ], Reward : 1.0, Done : False\n"
     ]
    },
    {
     "name": "stdin",
     "output_type": "stream",
     "text": [
      "Entrez une action (0 ou 1) :  0\n"
     ]
    },
    {
     "name": "stdout",
     "output_type": "stream",
     "text": [
      "Observation : [-0.03738642  0.16224232  0.13926873  0.04870489], Reward : 1.0, Done : False\n"
     ]
    },
    {
     "name": "stdin",
     "output_type": "stream",
     "text": [
      "Entrez une action (0 ou 1) :  0\n"
     ]
    },
    {
     "name": "stdout",
     "output_type": "stream",
     "text": [
      "Observation : [-0.03414158 -0.03457338  0.14024283  0.3818828 ], Reward : 1.0, Done : False\n"
     ]
    },
    {
     "name": "stdin",
     "output_type": "stream",
     "text": [
      "Entrez une action (0 ou 1) :  0\n"
     ]
    },
    {
     "name": "stdout",
     "output_type": "stream",
     "text": [
      "Observation : [-0.03483304 -0.23137908  0.14788048  0.7152894 ], Reward : 1.0, Done : False\n"
     ]
    },
    {
     "name": "stdin",
     "output_type": "stream",
     "text": [
      "Entrez une action (0 ou 1) :  0\n"
     ]
    },
    {
     "name": "stdout",
     "output_type": "stream",
     "text": [
      "Observation : [-0.03946063 -0.42820486  0.16218626  1.0506243 ], Reward : 1.0, Done : False\n"
     ]
    },
    {
     "name": "stdin",
     "output_type": "stream",
     "text": [
      "Entrez une action (0 ou 1) :  0\n"
     ]
    },
    {
     "name": "stdout",
     "output_type": "stream",
     "text": [
      "Observation : [-0.04802472 -0.62506276  0.18319875  1.3895099 ], Reward : 1.0, Done : False\n"
     ]
    },
    {
     "name": "stdin",
     "output_type": "stream",
     "text": [
      "Entrez une action (0 ou 1) :  0\n"
     ]
    },
    {
     "name": "stdout",
     "output_type": "stream",
     "text": [
      "Observation : [-0.06052598 -0.82193244  0.21098895  1.7334325 ], Reward : 1.0, Done : True\n"
     ]
    }
   ],
   "source": [
    "# import gymnasium as gym\n",
    "\n",
    "env = gym.make(\"CartPole-v1\", render_mode=\"human\")\n",
    "\n",
    "observation, info = env.reset()\n",
    "done = False\n",
    "while not done:\n",
    "    action = int(input(\"Entrez une action (0 ou 1) : \"))\n",
    "    observation, reward, done, _, _ = env.step(action)\n",
    "    print(f\"Observation : {observation}, Reward : {reward}, Done : {done}\")"
   ]
  },
  {
   "cell_type": "markdown",
   "id": "c68ec8f7-b338-4922-9e13-c7f62163c4b0",
   "metadata": {},
   "source": [
    "**Exercice 3 : Contrôle Manuel de l'Agent**"
   ]
  },
  {
   "cell_type": "code",
   "execution_count": 12,
   "id": "7dc8d05a-c97c-4d74-adef-1e085fe51b8c",
   "metadata": {},
   "outputs": [
    {
     "name": "stdin",
     "output_type": "stream",
     "text": [
      "Entrez une action (0 ou 1) :  0\n"
     ]
    },
    {
     "name": "stdout",
     "output_type": "stream",
     "text": [
      "Observation : [-0.02332903 -0.20150737 -0.0376114   0.31047404], Reward : 1.0, Done : False\n"
     ]
    }
   ],
   "source": [
    "env = gym.make(\"CartPole-v1\", render_mode=\"human\")\n",
    "observation, info = env.reset()\n",
    "\n",
    "action = int(input(\"Entrez une action (0 ou 1) : \"))\n",
    "observation, reward, done, _,_ = env.step(action)\n",
    "print(f\"Observation : {observation}, Reward : {reward}, Done : {done}\")\n"
   ]
  },
  {
   "cell_type": "code",
   "execution_count": 13,
   "id": "863928af-a965-4334-a7ce-16ec89f4dae7",
   "metadata": {},
   "outputs": [
    {
     "name": "stdin",
     "output_type": "stream",
     "text": [
      "Entrez une action (0 ou 1) :  0\n"
     ]
    },
    {
     "name": "stdout",
     "output_type": "stream",
     "text": [
      "Observation : [-0.02735917 -0.39607382 -0.03140192  0.5910622 ], Reward : 1.0, Done : False\n"
     ]
    },
    {
     "name": "stdin",
     "output_type": "stream",
     "text": [
      "Entrez une action (0 ou 1) :  0\n"
     ]
    },
    {
     "name": "stdout",
     "output_type": "stream",
     "text": [
      "Observation : [-0.03528065 -0.5907424  -0.01958067  0.8736904 ], Reward : 1.0, Done : False\n"
     ]
    },
    {
     "name": "stdin",
     "output_type": "stream",
     "text": [
      "Entrez une action (0 ou 1) :  0\n"
     ]
    },
    {
     "name": "stdout",
     "output_type": "stream",
     "text": [
      "Observation : [-0.0470955  -0.78559273 -0.00210687  1.1601535 ], Reward : 1.0, Done : False\n"
     ]
    },
    {
     "name": "stdin",
     "output_type": "stream",
     "text": [
      "Entrez une action (0 ou 1) :  0\n"
     ]
    },
    {
     "name": "stdout",
     "output_type": "stream",
     "text": [
      "Observation : [-0.06280735 -0.98068714  0.02109621  1.4521751 ], Reward : 1.0, Done : False\n"
     ]
    },
    {
     "name": "stdin",
     "output_type": "stream",
     "text": [
      "Entrez une action (0 ou 1) :  0\n"
     ]
    },
    {
     "name": "stdout",
     "output_type": "stream",
     "text": [
      "Observation : [-0.08242109 -1.1760617   0.05013971  1.7513736 ], Reward : 1.0, Done : False\n"
     ]
    },
    {
     "name": "stdin",
     "output_type": "stream",
     "text": [
      "Entrez une action (0 ou 1) :  0\n"
     ]
    },
    {
     "name": "stdout",
     "output_type": "stream",
     "text": [
      "Observation : [-0.10594233 -1.3717157   0.08516718  2.0592206 ], Reward : 1.0, Done : False\n"
     ]
    },
    {
     "name": "stdin",
     "output_type": "stream",
     "text": [
      "Entrez une action (0 ou 1) :  0\n"
     ]
    },
    {
     "name": "stdout",
     "output_type": "stream",
     "text": [
      "Observation : [-0.13337664 -1.5675975   0.1263516   2.3769872 ], Reward : 1.0, Done : False\n"
     ]
    },
    {
     "name": "stdin",
     "output_type": "stream",
     "text": [
      "Entrez une action (0 ou 1) :  0\n"
     ]
    },
    {
     "name": "stdout",
     "output_type": "stream",
     "text": [
      "Observation : [-0.1647286  -1.76359     0.17389134  2.7056808 ], Reward : 1.0, Done : False\n"
     ]
    },
    {
     "name": "stdin",
     "output_type": "stream",
     "text": [
      "Entrez une action (0 ou 1) :  0\n"
     ]
    },
    {
     "name": "stdout",
     "output_type": "stream",
     "text": [
      "Observation : [-0.20000039 -1.959491    0.22800496  3.0459678 ], Reward : 1.0, Done : True\n"
     ]
    }
   ],
   "source": [
    "step = 0\n",
    "done = False\n",
    "while not done:\n",
    "    action = int(input(\"Entrez une action (0 ou 1) : \"))\n",
    "    observation, reward, done, _ ,_= env.step(action)\n",
    "    print(f\"Observation : {observation}, Reward : {reward}, Done : {done}\")\n",
    "    step += 1\n",
    "env.close()  # Ferme l'environnement proprement\n"
   ]
  },
  {
   "cell_type": "code",
   "execution_count": 14,
   "id": "b365153f-92c9-49c9-9217-df4ad9a2869a",
   "metadata": {},
   "outputs": [
    {
     "name": "stdout",
     "output_type": "stream",
     "text": [
      "Durée de l'épisode : 9 étapes\n"
     ]
    }
   ],
   "source": [
    "print(f\"Durée de l'épisode : {step} étapes\")\n",
    "\n",
    "# Fermer l'environnement\n",
    "env.close()"
   ]
  },
  {
   "cell_type": "code",
   "execution_count": null,
   "id": "b673437e",
   "metadata": {},
   "outputs": [],
   "source": []
  },
  {
   "cell_type": "markdown",
   "id": "cbcd11dd-5b0f-4d2f-8f7d-c8e5436af16f",
   "metadata": {},
   "source": [
    "##### **Exercice 4 : Évaluation des Performances d’une Politique Aléatoire**\n"
   ]
  },
  {
   "cell_type": "code",
   "execution_count": 17,
   "id": "b4caa41e-0516-4fe9-8093-7e845f694cf2",
   "metadata": {},
   "outputs": [
    {
     "name": "stdout",
     "output_type": "stream",
     "text": [
      "Épisode 1, Durée : 11 étapes\n",
      "Épisode 2, Durée : 20 étapes\n",
      "Épisode 3, Durée : 20 étapes\n",
      "Épisode 4, Durée : 23 étapes\n",
      "Épisode 5, Durée : 24 étapes\n",
      "Épisode 6, Durée : 14 étapes\n",
      "Épisode 7, Durée : 23 étapes\n",
      "Épisode 8, Durée : 31 étapes\n",
      "Épisode 9, Durée : 12 étapes\n",
      "Épisode 10, Durée : 17 étapes\n",
      "Durée moyenne des épisodes : 19.5 étapes\n"
     ]
    }
   ],
   "source": [
    "num_episodes = 10\n",
    "env = gym.make(\"CartPole-v1\", render_mode=\"human\")\n",
    "total_steps = 0\n",
    "env.close()  \n",
    "env.reset() \n",
    "for episode in range(num_episodes):\n",
    "    done = False\n",
    "    steps = 0\n",
    "    env.reset()\n",
    "    while not done:\n",
    "        \n",
    "        action = env.action_space.sample()\n",
    "        observation, reward, done, _, _ = env.step(action)\n",
    "        steps += 1\n",
    "    total_steps += steps\n",
    "    print(f\"Épisode {episode + 1}, Durée : {steps} étapes\")\n",
    "\n",
    "average_steps = total_steps / num_episodes\n",
    "print(f\"Durée moyenne des épisodes : {average_steps} étapes\")"
   ]
  },
  {
   "cell_type": "code",
   "execution_count": null,
   "id": "08d0ee3e-95e6-43d1-b71b-77a9e5e62482",
   "metadata": {},
   "outputs": [],
   "source": []
  },
  {
   "cell_type": "code",
   "execution_count": null,
   "id": "1dbaafa0-fb73-4683-8fd1-b0e155330ada",
   "metadata": {},
   "outputs": [],
   "source": []
  }
 ],
 "metadata": {
  "kernelspec": {
   "display_name": "Python 3 (ipykernel)",
   "language": "python",
   "name": "python3"
  },
  "language_info": {
   "codemirror_mode": {
    "name": "ipython",
    "version": 3
   },
   "file_extension": ".py",
   "mimetype": "text/x-python",
   "name": "python",
   "nbconvert_exporter": "python",
   "pygments_lexer": "ipython3",
   "version": "3.10.0"
  }
 },
 "nbformat": 4,
 "nbformat_minor": 5
}
